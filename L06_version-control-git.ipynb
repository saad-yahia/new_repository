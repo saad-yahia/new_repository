{
 "cells": [
  {
   "cell_type": "markdown",
   "id": "4dbc7128",
   "metadata": {},
   "source": [
    "## Version Control: Git & Github"
   ]
  },
  {
   "cell_type": "markdown",
   "id": "2588605b",
   "metadata": {},
   "source": [
    "Git = Version control software\n",
    "\n",
    "GitHub = Provider of and server for Git-based version control\n",
    "\n",
    "Several tutorials can be found online, such as https://www.youtube.com/watch?v=RGOj5yH7evk or Windows-specific https://www.youtube.com/watch?v=XF99kTmS2gg"
   ]
  },
  {
   "cell_type": "markdown",
   "id": "e083b2d6",
   "metadata": {},
   "source": [
    "### Navigating github.com\n",
    "\n",
    "**Here you'll learn how to**\n",
    "- Create account on https://github.com/\n",
    "- Create repository  your own repository\n",
    "- Create files\n",
    "- Change this file\n",
    "- Track/monitor changes of this file\n",
    "- Collaborate"
   ]
  },
  {
   "cell_type": "markdown",
   "id": "85accc23",
   "metadata": {},
   "source": [
    "### Local Installation\n",
    "You need to install git locally to synchronize your local code with the one on Github.\n",
    "\n",
    "To check if already installed and which version, type \"git --version\" in command prompt (on MAC and Linux it should be installed).\n",
    "\n",
    "A good tutorial on how to install git can be found at https://www.atlassian.com/git/tutorials/install-git\n",
    "\n",
    "Git installer for windows  https://gitforwindows.org/"
   ]
  },
  {
   "cell_type": "markdown",
   "id": "e04b2d87",
   "metadata": {},
   "source": [
    "### Clone repository\n",
    "\n",
    "Clone a repository from github to your local machine\n",
    "\n",
    "- Open a cli and move to the local directory where you want the clone to end, on e.g. on my mac I type: \n",
    "cd /Users/alex/OneDrive/Projects_new/202202_PIER_Python_Graduate-Days\n",
    "\n",
    "- For cloning you might have to generate a personal access token first. (https://docs.github.com/en/authentication/keeping-your-account-and-data-secure/creating-a-personal-access-token)\n",
    "\n",
    "- Now I can clone the repository using the following command\n",
    "git clone https://github.com/alexbritz/Python_adv_PIER_April2022.git\n",
    "(this link can be copied and pasted from GitHub)\n",
    "\n",
    "- cd to the local repository to see content\n",
    "\n",
    "You might not recognize this as a git repository. But there is a hidden .git file, see for example in File Explorer."
   ]
  },
  {
   "cell_type": "markdown",
   "id": "0b70ddc5",
   "metadata": {},
   "source": [
    "### Commit, Push, Pull, Ignore\n",
    "\n",
    "\n",
    "Now I can create a new file in this repository (or make changes to a file\n",
    "\n",
    "To synchronize the repository, we need to add the new file to it to the repository using e.g. \n",
    "git add xxx.ipynb\n",
    "(or \"git add .\" to add all)\n",
    "\n",
    "If we don't want to synch the checkpoints, we can create a .gitignore file -> textfile which contains a list of files which are not synchronized and tracked.\n",
    "\n",
    "**To synchronize we need to commit and push**\n",
    "\n",
    "commit with:\n",
    "\"git commit -m \"SMART COMMENT TO TELL ME WHAT I DID\" \"\n",
    "\n",
    "\"git push\"\n",
    "\n",
    "We can check the status with\n",
    "\"git log\"\n",
    "\n",
    "And to pull the updates in the repository from GitHub, we use\n",
    "\"git pull\""
   ]
  },
  {
   "cell_type": "markdown",
   "id": "039cbb88",
   "metadata": {},
   "source": [
    "### Collaborating: Branching\n",
    "\n",
    "Before creating a new branch, pull master:  \n",
    "\"git pull origin master\"\n",
    "\n",
    "Checkout new branch  \n",
    "\"git checkout -b branch-name\"\n",
    "\n",
    "To check which branch you are in   \n",
    "\"git branch\"\n",
    "\n",
    "Now you can work in you new branch. To commit and push:  \n",
    "\"git commit -m \"COMMENT\" \"   \n",
    "\"git push origin branch-name\"\n",
    "\n",
    "Then you can merge the branches on github and delete the branch afterwards.\n"
   ]
  }
 ],
 "metadata": {
  "kernelspec": {
   "display_name": "Python 3 (ipykernel)",
   "language": "python",
   "name": "python3"
  },
  "language_info": {
   "codemirror_mode": {
    "name": "ipython",
    "version": 3
   },
   "file_extension": ".py",
   "mimetype": "text/x-python",
   "name": "python",
   "nbconvert_exporter": "python",
   "pygments_lexer": "ipython3",
   "version": "3.9.7"
  },
  "toc": {
   "base_numbering": 1,
   "nav_menu": {},
   "number_sections": true,
   "sideBar": true,
   "skip_h1_title": false,
   "title_cell": "Table of Contents",
   "title_sidebar": "Contents",
   "toc_cell": false,
   "toc_position": {
    "height": "calc(100% - 180px)",
    "left": "10px",
    "top": "150px",
    "width": "227.917px"
   },
   "toc_section_display": true,
   "toc_window_display": true
  }
 },
 "nbformat": 4,
 "nbformat_minor": 5
}
